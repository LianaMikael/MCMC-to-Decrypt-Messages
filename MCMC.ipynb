{
 "cells": [
  {
   "cell_type": "markdown",
   "metadata": {},
   "source": [
    "# Decrypting messages with MCMC (Metropolis-Hastings)"
   ]
  },
  {
   "cell_type": "code",
   "execution_count": 1,
   "metadata": {},
   "outputs": [],
   "source": [
    "import numpy as np\n",
    "import matplotlib.pyplot as plt"
   ]
  },
  {
   "cell_type": "code",
   "execution_count": 2,
   "metadata": {},
   "outputs": [],
   "source": [
    "# Extract the symbols and the text to be used to calculate the transition probabilities of English language\n",
    "def read_files(symbols_filename, text_filename):\n",
    "    \n",
    "    with open(symbols_filename) as symbols_file:\n",
    "        symbols = symbols_file.readlines()\n",
    "        symbols = [s.strip() for s in symbols]\n",
    "        symbols[1] = \" \"\n",
    "\n",
    "    with open(text_filename) as text_file:\n",
    "        text = text_file.read()\n",
    "        text = text.lower()\n",
    "        \n",
    "    return symbols, text"
   ]
  },
  {
   "cell_type": "code",
   "execution_count": 4,
   "metadata": {},
   "outputs": [],
   "source": [
    "# Read the message to be deciphered  \n",
    "def read_message(message_name):\n",
    "    \n",
    "    with open(message_name) as message:\n",
    "        message = message.read()\n",
    "        message = message.lower()\n",
    "        \n",
    "    return message"
   ]
  },
  {
   "cell_type": "code",
   "execution_count": 17,
   "metadata": {},
   "outputs": [],
   "source": [
    "# Calculate the matrix of the transition probabilities of the Markov Chain \n",
    "def transitions():\n",
    "    \n",
    "    trans_probs = np.ones((len(symbols), len(symbols)))\n",
    "    \n",
    "    for n in range(1, len(text)):    \n",
    "        if (text[n-1] in symbols and text[n] in symbols):\n",
    "            index_1 = symbols.index(text[n-1])\n",
    "            index_2 = symbols.index(text[n])\n",
    "            trans_probs[index_2,index_1] += 1       \n",
    "            \n",
    "    dic = {} # dictionary: index of symbol -> # of times it occurs in the text\n",
    "    for k in range(len(symbols)):  \n",
    "        dic[k] = np.sum(trans_probs[k])\n",
    "\n",
    "    for l in range(trans_probs.shape[0]):\n",
    "        for m in range(trans_probs.shape[1]): \n",
    "            trans_probs[l,m] /= (dic[l])\n",
    "    \n",
    "    return trans_probs"
   ]
  },
  {
   "cell_type": "code",
   "execution_count": 18,
   "metadata": {},
   "outputs": [],
   "source": [
    "symbols, text = read_files(\"symbols.txt\", \"war-and-peace.txt\")"
   ]
  },
  {
   "cell_type": "code",
   "execution_count": 19,
   "metadata": {},
   "outputs": [],
   "source": [
    "trans_matrix = transitions()"
   ]
  },
  {
   "cell_type": "code",
   "execution_count": 22,
   "metadata": {},
   "outputs": [],
   "source": [
    "# Visualizes the transition matrix as a Hinton diagram \n",
    "def hinton_diagram():\n",
    "    \n",
    "    plt.figure(figsize=(7,7))\n",
    "    s = []\n",
    "    for i in range(len(symbols)):\n",
    "        s.append(i-0.5)\n",
    "    \n",
    "    plt.xticks(s, symbols)\n",
    "    plt.yticks(s, symbols)\n",
    "    plt.ylabel(\"First Symbol\")\n",
    "    plt.xlabel(\"Probability of the Second Symbol Following by the First\")\n",
    "    plt.imshow(trans_matrix, \"binary\")\n",
    "    \n",
    "    legend = plt.colorbar()\n",
    "    legend.set_label(\"Transition Probabilities\", rotation=270)\n",
    "    plt.show()"
   ]
  },
  {
   "cell_type": "code",
   "execution_count": 23,
   "metadata": {},
   "outputs": [
    {
     "data": {
      "image/png": "[encoded data removed]",
      "text/plain": [
       "<Figure size 504x504 with 2 Axes>"
      ]
     },
     "metadata": {
      "needs_background": "light"
     },
     "output_type": "display_data"
    }
   ],
   "source": [
    "hinton_diagram()"
   ]
  },
  {
   "cell_type": "code",
   "execution_count": 24,
   "metadata": {},
   "outputs": [],
   "source": [
    "# Metropolis-Hastings algorithm\n",
    "# State variable of the MCMC is the permutation of symbols \n",
    "# The proposal is given by choosing two symbols at random and swapping the correponding encrypted symbols  \n",
    "\n",
    "def Metropolis_Hastings(max_iterations=15000):\n",
    "    current_permutation = symbols.copy()\n",
    "    np.random.shuffle(current_permutation)\n",
    "    \n",
    "    for i in range(max_iterations): \n",
    "        index_1 = np.random.randint(len(current_permutation))\n",
    "        index_2 = np.random.randint(len(current_permutation))\n",
    "        \n",
    "        while (index_1 == index_2):\n",
    "            index_2 = np.random.randint(len(current_permutation))\n",
    "        \n",
    "        new_permutation = []\n",
    "        for s in current_permutation:\n",
    "            new_permutation += s\n",
    "        \n",
    "        new_permutation[index_1], new_permutation[index_2] = new_permutation[index_2], new_permutation[index_1]\n",
    "        \n",
    "        current_message = decipher(message, current_permutation)\n",
    "        deciphered_message = decipher(message, new_permutation)\n",
    "        log_accept = log_like(deciphered_message) - log_like(current_message)\n",
    "        \n",
    "        # draw a sample form a uniform distribution over [0,1] to accept or reject the new permutation  \n",
    "        if (np.random.random() < np.exp(log_accept)):\n",
    "            current_permutation = new_permutation \n",
    "         \n",
    "            if (i%1000 == 0):\n",
    "                print(\"Number of iterations: \" + str(i))\n",
    "                print(\"Log-likelihood: \" + str(log_like(deciphered_message))) \n",
    "                print(deciphered_message)"
   ]
  },
  {
   "cell_type": "code",
   "execution_count": 25,
   "metadata": {},
   "outputs": [],
   "source": [
    "# Calculate the log likelihood of a deciphered message according to transition probabilities \n",
    "def log_like(deciphered_message):\n",
    "    \n",
    "    log_like = 0\n",
    "    for i in range(1, len(deciphered_message)):\n",
    "        if (deciphered_message[i-1] in symbols and deciphered_message[i] in symbols):\n",
    "            index_1 = symbols.index(deciphered_message[i-1])\n",
    "            index_2 = symbols.index(deciphered_message[i])\n",
    "            \n",
    "            if (trans_matrix[index_2,index_1]) > 0:\n",
    "                log_probs = np.log(trans_matrix[index_2,index_1])\n",
    "                log_like += log_probs\n",
    "    \n",
    "    return log_like "
   ]
  },
  {
   "cell_type": "code",
   "execution_count": 28,
   "metadata": {},
   "outputs": [],
   "source": [
    "# Return the new message generated according to the new permutation  \n",
    "def decipher(current_message, new_permutation):\n",
    "    sigma = {} # dictionary: old symbol -> new symbol \n",
    "    \n",
    "    for i in range(len(symbols)):\n",
    "        sigma[symbols[i]] = new_permutation[i]\n",
    "    \n",
    "    new_message = \"\"\n",
    "    for m in current_message:\n",
    "        new_message += sigma[m]\n",
    "    \n",
    "    return new_message "
   ]
  },
  {
   "cell_type": "code",
   "execution_count": 29,
   "metadata": {},
   "outputs": [],
   "source": [
    "message = read_message(\"message_large.txt\")"
   ]
  },
  {
   "cell_type": "code",
   "execution_count": 30,
   "metadata": {},
   "outputs": [
    {
     "name": "stdout",
     "output_type": "stream",
     "text": [
      "Message to decipher: \n",
      "h1f.jj\", bf 1l)(. n(ln10lb!.1lh[1(n1fhl1s.?n?h v1?kll.jje1b ).1ohm.1h1aksj()1j.)nk?.1b 1hln?b b![*17.1v.l)?(s.v17bf1n7.1.h?n71b?s(nl1h?bk v1n7.1lk 1h v17bf1n7.1lk /1( 1nk? /1b?s(nl1h?bk v1n7.1). n.?1bz1h1mhln1)bjj.)n(b 1bz1lnh?l1)hjj.v1bk?1ohjh6[*1hn1n7.1. v1bz1n7.1j.)nk?./1h1j(nnj.1bjv1jhv[1hn1n7.1sh),1bz1n7.1?bb!1obn1ka1h v1lh(vc1tf7hn1[bk17hm.1nbjv1kl1(l1?kss(l7*1n7.1fb?jv1(l1?.hjj[1h1zjhn1ajhn.1lkaab?n.v1b 1n7.1sh),1bz1h1o(h n1nb?nb(l.*t1n7.1l)(. n(ln1ohm.1h1lka.?(b?1l!(j.1s.zb?.1?.aj[( o/1tf7hn1(l1n7.1nb?nb(l.1lnh v( o1b *t1t[bkp?.1m.?[1)j.m.?/1[bk o1!h /1m.?[1)j.m.?/t1lh(v1n7.1bjv1jhv[*1tskn1(npl1nk?nj.l1hjj1n7.1fh[1vbf 8t1!bln1a.baj.1fbkjv1z( v1n7.1a()nk?.1bz1bk?1k (m.?l.1hl1h 1( z( (n.1nbf.?1bz1nb?nb(l.l1?hn7.?1?(v()kjbkl/1skn1f7[1vb1f.1n7( ,1f.1, bf1s.nn.?=1f7hn1vb1f.1, bf1hsbkn1n7.1k (m.?l./1h v17bf1vb1f.1, bf1(n=1f7.?.1v(v1n7.1k (m.?l.1)b!.1z?b!/1h v1f7.?.1(l1(n1ob( o=1v(v1n7.1k (m.?l.17hm.1h1s.o(  ( o/1h v1(z1lb/1f7hn17haa. .v1s.zb?.1n7. =1f7hn1(l1n7.1 hnk?.1bz1n(!.=1f(jj1(n1.m.?1)b!.1nb1h 1. v=1)h 1f.1ob1sh),1( 1n(!.=1?.). n1s?.h,n7?bko7l1( 1a7[l()l/1!hv.1abll(sj.1( 1ah?n1s[1zh nhln()1 .f1n.)7 bjbo(.l/1lkoo.ln1h lf.?l1nb1lb!.1bz1n7.l.1jb olnh v( o1dk.ln(b l*1lb!.vh[1n7.l.1h lf.?l1!h[1l..!1hl1bsm(bkl1nb1kl1hl1n7.1.h?n71b?s(n( o1n7.1lk 1\"1b?1a.?7hal1hl1?(v()kjbkl1hl1h1nbf.?1bz1nb?nb(l.l*1b j[1n(!.10f7hn.m.?1n7hn1!h[1s.e1f(jj1n.jj*1\n",
      "Number of symbols: 1364\n"
     ]
    }
   ],
   "source": [
    "print(\"Message to decipher: \\n\" + str(message) + \"\\nNumber of symbols: \" + str(len(message)))"
   ]
  },
  {
   "cell_type": "code",
   "execution_count": 127,
   "metadata": {},
   "outputs": [
    {
     "name": "stdout",
     "output_type": "stream",
     "text": [
      "Number of iterations: 0\n",
      "Log-likelihood: -9501.686925955413\n",
      "i?5/[[rxmd5m?0pk/mqk0q?c0d-/?0i,?kq?5i0?3/jqjiml?jn00/[[1?dmp/?oih/?i?vn3[kp?[/pqnj/?dm?i0qjdmd-,4?w/?l/0pjk3/l?wd5?qw/?/ijqw?dj3kq0?ijdnml?qw/?0nm?iml?wd5?qw/?0nm6?km?qnjm6?dj3kq0?ijdnml?qw/?p/mq/j?du?i?hi0q?pd[[/pqkdm?du?0qij0?pi[[/l?dnj?oi[ig,4?iq?qw/?/ml?du?qw/?[/pqnj/6?i?[kqq[/?d[l?[il,?iq?qw/?3ipx?du?qw/?jdd-?odq?nv?iml?0ikl ?a5wiq?,dn?wih/?qd[l?n0?k0?jn33k0w4?qw/?5dj[l?k0?j/i[[,?i?u[iq?v[iq/?0nvvdjq/l?dm?qw/?3ipx?du?i?okimq?qdjqdk0/4a?qw/?0pk/mqk0q?oih/?i?0nv/jkdj?0-k[/?3/udj/?j/v[,kmo6?a5wiq?k0?qw/?qdjqdk0/?0qimlkmo?dm4a?a,dn9j/?h/j,?p[/h/j6?,dnmo?-im6?h/j,?p[/h/j6a?0ikl?qw/?d[l?[il,4?a3nq?kq90?qnjq[/0?i[[?qw/?5i,?ld5m\"a?-d0q?v/dv[/?5dn[l?ukml?qw/?vkpqnj/?du?dnj?nmkh/j0/?i0?im?kmukmkq/?qd5/j?du?qdjqdk0/0?jiqw/j?jklkpn[dn06?3nq?5w,?ld?5/?qwkmx?5/?xmd5?3/qq/jz?5wiq?ld?5/?xmd5?i3dnq?qw/?nmkh/j0/6?iml?wd5?ld?5/?xmd5?kqz?5w/j/?lkl?qw/?nmkh/j0/?pd-/?ujd-6?iml?5w/j/?k0?kq?odkmoz?lkl?qw/?nmkh/j0/?wih/?i?3/okmmkmo6?iml?ku?0d6?5wiq?wivv/m/l?3/udj/?qw/mz?5wiq?k0?qw/?miqnj/?du?qk-/z?5k[[?kq?/h/j?pd-/?qd?im?/mlz?pim?5/?od?3ipx?km?qk-/z?j/p/mq?3j/ixqwjdnow0?km?vw,0kp06?-il/?vd00k3[/?km?vijq?3,?uimqi0qkp?m/5?q/pwmd[dok/06?0noo/0q?im05/j0?qd?0d-/?du?qw/0/?[dmo0qimlkmo?;n/0qkdm04?0d-/li,?qw/0/?im05/j0?-i,?0//-?i0?d3hkdn0?qd?n0?i0?qw/?/ijqw?dj3kqkmo?qw/?0nm?r?dj?v/jwiv0?i0?jklkpn[dn0?i0?i?qd5/j?du?qdjqdk0/04?dm[,?qk-/?c5wiq/h/j?qwiq?-i,?3/1?5k[[?q/[[4?\n",
      "Number of iterations: 4000\n",
      "Log-likelihood: -3345.2291431977605\n",
      "a well*'nown scientist ksome say it was bertrand russell: once gave a public lecture on astronomy. he described how the earth orbits around the sun and how the sun, in turn, orbits around the center of a vast collection of stars called our gala1y. at the end of the lecture, a little old lady at the bac' of the room got up and said; \"what you have told us is rubbish. the world is really a flat plate supported on the bac' of a giant tortoise.\" the scientist gave a superior smile before replying, \"what is the tortoise standing on.\" \"you-re very clever, young man, very clever,\" said the old lady. \"but it-s turtles all the way down?\" most people would find the picture of our universe as an infinite tower of tortoises rather ridiculous, but why do we thin' we 'now better! what do we 'now about the universe, and how do we 'now it! where did the universe come from, and where is it going! did the universe have a beginning, and if so, what happened before then! what is the nature of time! will it ever come to an end! can we go bac' in time! recent brea'throughs in physics, made possible in part by fantastic new technologies, suggest answers to some of these longstanding questions. someday these answers may seem as obvious to us as the earth orbiting the sun * or perhaps as ridiculous as a tower of tortoises. only time kwhatever that may be: will tell. \n",
      "Number of iterations: 5000\n",
      "Log-likelihood: -3329.7945801217484\n",
      "a wellk'nown scientist (some say it was bertrand russell: once gave a public lecture on astronomy! he described how the earth orbits around the sun and how the sun, in turn, orbits around the center of a vast collection of stars called our galazy! at the end of the lecture, a little old lady at the bac' of the room got up and said; \"what you have told us is rubbish! the world is really a flat plate supported on the bac' of a giant tortoise!\" the scientist gave a superior smile before replying, \"what is the tortoise standing on!\" \"you-re very clever, young man, very clever,\" said the old lady! \"but it-s turtles all the way down?\" most people would find the picture of our universe as an infinite tower of tortoises rather ridiculous, but why do we thin' we 'now better. what do we 'now about the universe, and how do we 'now it. where did the universe come from, and where is it going. did the universe have a beginning, and if so, what happened before then. what is the nature of time. will it ever come to an end. can we go bac' in time. recent brea'throughs in physics, made possible in part by fantastic new technologies, suggest answers to some of these longstanding questions! someday these answers may seem as obvious to us as the earth orbiting the sun k or perhaps as ridiculous as a tower of tortoises! only time (whatever that may be: will tell! \n",
      "Number of iterations: 8000\n",
      "Log-likelihood: -3294.748168341331\n",
      "a well*known scientist (some say it was bertrand russell; once gave a public lecture on astronomy. he described how the earth orbits around the sun and how the sun, in turn, orbits around the center of a vast collection of stars called our galazy. at the end of the lecture, a little old lady at the back of the room got up and said: \"what you have told us is rubbish. the world is really a flat plate supported on the back of a giant tortoise.\" the scientist gave a superior smile before replying, \"what is the tortoise standing on.\" \"you-re very clever, young man, very clever,\" said the old lady. \"but it-s turtles all the way down?\" most people would find the picture of our universe as an infinite tower of tortoises rather ridiculous, but why do we think we know better! what do we know about the universe, and how do we know it! where did the universe come from, and where is it going! did the universe have a beginning, and if so, what happened before then! what is the nature of time! will it ever come to an end! can we go back in time! recent breakthroughs in physics, made possible in part by fantastic new technologies, suggest answers to some of these longstanding questions. someday these answers may seem as obvious to us as the earth orbiting the sun * or perhaps as ridiculous as a tower of tortoises. only time (whatever that may be; will tell. \n"
     ]
    }
   ],
   "source": [
    "Metropolis_Hastings()"
   ]
  },
  {
   "cell_type": "code",
   "execution_count": 128,
   "metadata": {},
   "outputs": [],
   "source": [
    "message = read_message(\"message_small.txt\")"
   ]
  },
  {
   "cell_type": "code",
   "execution_count": 129,
   "metadata": {},
   "outputs": [
    {
     "name": "stdout",
     "output_type": "stream",
     "text": [
      "Message to decipher: \n",
      "(nk.t7n.gt[st?n[l?t!nt4[aatztaz.?mtoz.!tn4t(nk.ta[4m-tzlbt!)mtnla(t7z(t!ntdmt!.ka(tsz![s4[mbt[st!ntbnt7)z!t(nktdma[m\"mt[st?.mz!t7n.gxtzlbt!)mtnla(t7z(t!ntbnt?.mz!t7n.gt[st!ntan\"mt7)z!t(nktbnxt[4t(nkt)z\"mlp!t4nklbt[!t(m!-tgmmotanng[l?xtbnlp!tsm!!amxtzst7[!)tzaatcz!!m.stn4t!)mt)mz.!-t(nkpaatgln7t7)mlt(nkt4[lbt[!x\n",
      "Number of symbols: 312\n"
     ]
    }
   ],
   "source": [
    "print(\"Message to decipher: \\n\" + str(message) + \"\\nNumber of symbols: \" + str(len(message)))"
   ]
  },
  {
   "cell_type": "code",
   "execution_count": 138,
   "metadata": {},
   "outputs": [
    {
     "name": "stdout",
     "output_type": "stream",
     "text": [
      "Number of iterations: 0\n",
      "Log-likelihood: -1883.9211559748217\n",
      "i?(-dq?-9d edo? kod[?da \"\"d8d\"8-o'ds8-[d?adi?(-d\" a'md8knd[!'d?k\"idq8id[?df'd[-(\"ide8[ ea 'nd ed[?dn?dq!8[di?(df'\" ':'d edo-'8[dq?-9;d8knd[!'d?k\"idq8id[?dn?do-'8[dq?-9d ed[?d\"?:'dq!8[di?(dn?;d adi?(d!8:'kj[da?(knd [di'[md9''sd\"??9 ko;dn?kj[de'[[\"';d8edq [!d8\"\"d/8[['-ed?ad[!'d!'8-[mdi?(j\"\"d9k?qdq!'kdi?(da knd [;\n",
      "Number of iterations: 1000\n",
      "Log-likelihood: -1200.6820671591233\n",
      "cr'dlyrdilugl-run-lsrlaupplelped- lkedslralcr'dlpua blenolst lrnpclyeclsrl, lsd'pclgesugau oluglsrlorlyteslcr'l, pu w lugl-d eslyrdiflenolst lrnpclyeclsrlorl-d eslyrdiluglsrlprw lyteslcr'lorflualcr'ltew nvslar'noluslc sbli  klprriun-flornvslg ssp fleglyustlepplzess dglralst lt edsblcr'vpplinrylyt nlcr'launolusf\n",
      "Number of iterations: 5000\n",
      "Log-likelihood: -811.7962310265045\n",
      "yofu pous ig coinc to mill a lauce waut om yofu lime. and tre only pay to he tufly gatigmied ig to do prat yof helieve ig cueat pous, and tre only pay to do cueat pous ig to love prat yof do, im yof raven't mofnd it yet. seew loosinc, don't gettle, ag pitr all (atteug om tre reaut. yof'll snop pren yof mind it,\n",
      "Number of iterations: 7000\n",
      "Log-likelihood: -757.2047589454012\n",
      "four work is coinc to mill a larce yart om four lime. and the onlf waf to pe trulf satismied is to do what fou pelieve is creat work, and the onlf waf to do creat work is to love what fou do, im fou havengt mound it fet. keey lookinc, dongt settle, as with all batters om the heart. fougll know when fou mind it,\n",
      "Number of iterations: 9000\n",
      "Log-likelihood: -750.4466573911949\n",
      "your work is going to mill a large \"art om your lime. and the only way to be truly satismied is to do what you believe is great work, and the only way to do great work is to love what you do, im you havenct mound it yet. kee\" looking, donct settle, as with all patters om the heart. youcll know when you mind it,\n",
      "Number of iterations: 17000\n",
      "Log-likelihood: -746.8568978592297\n",
      "your work is going to mill a large fart om your lime. and the only way to pe truly satismied is to do what you pelieve is great work, and the only way to do great work is to love what you do, im you havenct mound it yet. keef looking, donct settle, as with all batters om the heart. youcll know when you mind it,\n",
      "Number of iterations: 19000\n",
      "Log-likelihood: -745.577611304865\n",
      "four work is going to mill a large yart om four lime. and the onlf waf to be trulf satismied is to do what fou believe is great work, and the onlf waf to do great work is to love what fou do, im fou havenct mound it fet. keey looking, donct settle, as with all patters om the heart. foucll know when fou mind it,\n",
      "Number of iterations: 20000\n",
      "Log-likelihood: -745.577611304865\n",
      "four work is going to mill a large yart om four lime. and the onlf waf to be trulf satismied is to do what fou believe is great work, and the onlf waf to do great work is to love what fou do, im fou havenct mound it fet. keey looking, donct settle, as with all patters om the heart. foucll know when fou mind it,\n",
      "Number of iterations: 29000\n",
      "Log-likelihood: -745.577611304865\n",
      "four work is going to mill a large yart om four lime. and the onlf waf to be trulf satismied is to do what fou believe is great work, and the onlf waf to do great work is to love what fou do, im fou havenct mound it fet. keey looking, donct settle, as with all patters om the heart. foucll know when fou mind it,\n",
      "Number of iterations: 30000\n",
      "Log-likelihood: -745.2709069008582\n",
      "your work is going to mill a large fart om your lime. and the only way to be truly satismied is to do what you believe is great work, and the only way to do great work is to love what you do, im you havenct mound it yet. keef looking, donct settle, as with all patters om the heart. youcll know when you mind it,\n",
      "Number of iterations: 34000\n",
      "Log-likelihood: -750.7927662279368\n",
      "your work is going to fill a large mart of your life. and the only way to be truly satisfied is to do what you believe is great work, and the only way to do great work is to love what you do, if you havenct found it yet. keem looking, donct settle, as with all zatters of the heart. youcll know when you find it,\n",
      "Number of iterations: 35000\n",
      "Log-likelihood: -753.3780460230006\n",
      "your work is going to mill a large fart om your lime. and the only way to be truly satismied is to do what you believe is great work, and the only way to do great work is to love what you do, im you havenct mound it yet. keef looking, donct settle, as with all 1atters om the heart. youcll know when you mind it,\n",
      "Number of iterations: 41000\n",
      "Log-likelihood: -745.2893187096804\n",
      "your work is going to fill a large mart of your life. and the only way to be truly satisfied is to do what you believe is great work, and the only way to do great work is to love what you do, if you havenct found it yet. keem looking, donct settle, as with all patters of the heart. youcll know when you find it,\n",
      "Number of iterations: 46000\n",
      "Log-likelihood: -745.2893187096804\n",
      "your work is going to fill a large mart of your life. and the only way to be truly satisfied is to do what you believe is great work, and the only way to do great work is to love what you do, if you havenct found it yet. keem looking, donct settle, as with all patters of the heart. youcll know when you find it,\n",
      "Number of iterations: 52000\n",
      "Log-likelihood: -751.101203025199\n",
      "four work is going to mill a large part om four lime, and the onlf waf to be trulf satismied is to do what fou believe is great work. and the onlf waf to do great work is to love what fou do. im fou havenct mound it fet, keep looking. donct settle. as with all xatters om the heart, foucll know when fou mind it.\n",
      "Number of iterations: 54000\n",
      "Log-likelihood: -748.2833965798042\n",
      "four work is going to mill a large part om four limey and the onlf waf to be trulf satismied is to do what fou believe is great work, and the onlf waf to do great work is to love what fou do, im fou havenct mound it fety keep looking, donct settle, as with all (atters om the hearty foucll know when fou mind it,\n",
      "Number of iterations: 64000\n",
      "Log-likelihood: -747.0071491272431\n",
      "your work is going to fill a large part of your life. and the only way to be truly satisfied is to do what you believe is great work, and the only way to do great work is to love what you do, if you havenct found it yet. keep looking, donct settle, as with all matters of the heart. youcll know when you find it,\n",
      "Number of iterations: 65000\n",
      "Log-likelihood: -747.8905117237146\n",
      "your worm is going to fill a large part of your life. and the only way to be truly satisfied is to do what you believe is great worm, and the only way to do great worm is to love what you do, if you havenct found it yet. meep looming, donct settle, as with all jatters of the heart. youcll mnow when you find it,\n"
     ]
    }
   ],
   "source": [
    "Metropolis_Hastings(70000)"
   ]
  },
  {
   "cell_type": "markdown",
   "metadata": {},
   "source": [
    "Here we are testing the algorithm on the first two paragraphs of \"A Briefer History of Time\" by Stephen Hawking and a quote by Steve Jobs taken from his speech at Stanford's graduation ceremony in 2005. Note that the algorithm is able to produce a sensible text in each case, although not perfect. The larger the text, the higher the accuracy and the smaller the number of iterations needed for convergence."
   ]
  },
  {
   "cell_type": "code",
   "execution_count": null,
   "metadata": {},
   "outputs": [],
   "source": []
  }
 ],
 "metadata": {
  "kernelspec": {
   "display_name": "Python 3",
   "language": "python",
   "name": "python3"
  },
  "language_info": {
   "codemirror_mode": {
    "name": "ipython",
    "version": 3
   },
   "file_extension": ".py",
   "mimetype": "text/x-python",
   "name": "python",
   "nbconvert_exporter": "python",
   "pygments_lexer": "ipython3",
   "version": "3.7.4"
  }
 },
 "nbformat": 4,
 "nbformat_minor": 2
}
